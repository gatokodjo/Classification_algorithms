{
 "cells": [
  {
   "cell_type": "markdown",
   "id": "49db670e",
   "metadata": {},
   "source": [
    "# k-Nearest Neighbors (k-NN) Classification on Breast Cancer Dataset"
   ]
  },
  {
   "cell_type": "code",
   "execution_count": null,
   "id": "3582e995",
   "metadata": {},
   "outputs": [],
   "source": [
    "\n",
    "import numpy as np\n",
    "import pandas as pd\n",
    "import matplotlib.pyplot as plt\n",
    "import seaborn as sns\n",
    "\n",
    "from sklearn import datasets\n",
    "from sklearn.model_selection import train_test_split\n",
    "from sklearn.preprocessing import StandardScaler\n",
    "from sklearn.neighbors import KNeighborsClassifier\n",
    "from sklearn.metrics import accuracy_score, confusion_matrix, classification_report, roc_curve, auc\n",
    "\n",
    "sns.set(style=\"whitegrid\")\n"
   ]
  },
  {
   "cell_type": "markdown",
   "id": "399153fb",
   "metadata": {},
   "source": [
    "## Load Breast Cancer Dataset"
   ]
  },
  {
   "cell_type": "code",
   "execution_count": null,
   "id": "105b6cf5",
   "metadata": {},
   "outputs": [],
   "source": [
    "\n",
    "cancer = datasets.load_breast_cancer()\n",
    "X = pd.DataFrame(cancer.data, columns=cancer.feature_names)\n",
    "y = pd.Series(cancer.target)\n",
    "\n",
    "print(\"Dataset shape:\", X.shape)\n",
    "print(\"Classes:\", cancer.target_names)\n",
    "print(\"Class distribution:\", y.value_counts())\n"
   ]
  },
  {
   "cell_type": "markdown",
   "id": "1fdd2e40",
   "metadata": {},
   "source": [
    "## Exploratory Data Analysis"
   ]
  },
  {
   "cell_type": "code",
   "execution_count": null,
   "id": "c32db76d",
   "metadata": {},
   "outputs": [],
   "source": [
    "\n",
    "sns.countplot(x=y, palette=\"Set2\")\n",
    "plt.title(\"Class Distribution (0 = Malignant, 1 = Benign)\")\n",
    "plt.show()\n"
   ]
  },
  {
   "cell_type": "markdown",
   "id": "9459eb33",
   "metadata": {},
   "source": [
    "## Train-Test Split and Scaling"
   ]
  },
  {
   "cell_type": "code",
   "execution_count": null,
   "id": "6ba312e1",
   "metadata": {},
   "outputs": [],
   "source": [
    "\n",
    "X_train, X_test, y_train, y_test = train_test_split(X, y, test_size=0.3, random_state=42, stratify=y)\n",
    "\n",
    "scaler = StandardScaler()\n",
    "X_train_scaled = scaler.fit_transform(X_train)\n",
    "X_test_scaled = scaler.transform(X_test)\n"
   ]
  },
  {
   "cell_type": "markdown",
   "id": "b03effa7",
   "metadata": {},
   "source": [
    "## Train k-NN Classifier with Different k Values"
   ]
  },
  {
   "cell_type": "code",
   "execution_count": null,
   "id": "0ddbaa4c",
   "metadata": {},
   "outputs": [],
   "source": [
    "\n",
    "k_values = range(1, 21)\n",
    "accuracies = []\n",
    "\n",
    "for k in k_values:\n",
    "    knn = KNeighborsClassifier(n_neighbors=k)\n",
    "    knn.fit(X_train_scaled, y_train)\n",
    "    accuracies.append(knn.score(X_test_scaled, y_test))\n",
    "\n",
    "plt.figure(figsize=(8,5))\n",
    "plt.plot(k_values, accuracies, marker=\"o\", linestyle=\"--\", color=\"b\")\n",
    "plt.title(\"k-NN Accuracy for Different k Values\")\n",
    "plt.xlabel(\"Number of Neighbors (k)\")\n",
    "plt.ylabel(\"Accuracy\")\n",
    "plt.xticks(k_values)\n",
    "plt.show()\n"
   ]
  },
  {
   "cell_type": "markdown",
   "id": "9715934a",
   "metadata": {},
   "source": [
    "## Evaluate Best k"
   ]
  },
  {
   "cell_type": "code",
   "execution_count": null,
   "id": "a8d3c6a7",
   "metadata": {},
   "outputs": [],
   "source": [
    "\n",
    "best_k = k_values[np.argmax(accuracies)]\n",
    "print(\"Best k:\", best_k, \"with accuracy:\", max(accuracies))\n",
    "\n",
    "knn_best = KNeighborsClassifier(n_neighbors=best_k)\n",
    "knn_best.fit(X_train_scaled, y_train)\n",
    "\n",
    "y_pred = knn_best.predict(X_test_scaled)\n",
    "print(\"Classification Report:\\n\", classification_report(y_test, y_pred, target_names=cancer.target_names))\n",
    "\n",
    "cm = confusion_matrix(y_test, y_pred)\n",
    "sns.heatmap(cm, annot=True, fmt=\"d\", cmap=\"Blues\", xticklabels=cancer.target_names, yticklabels=cancer.target_names)\n",
    "plt.title(f\"Confusion Matrix (k-NN, k={best_k})\")\n",
    "plt.xlabel(\"Predicted\")\n",
    "plt.ylabel(\"Actual\")\n",
    "plt.show()\n"
   ]
  },
  {
   "cell_type": "markdown",
   "id": "2994c577",
   "metadata": {},
   "source": [
    "## ROC Curve & AUC"
   ]
  },
  {
   "cell_type": "code",
   "execution_count": null,
   "id": "44cba7bb",
   "metadata": {},
   "outputs": [],
   "source": [
    "\n",
    "y_prob = knn_best.predict_proba(X_test_scaled)[:,1]\n",
    "fpr, tpr, _ = roc_curve(y_test, y_prob)\n",
    "roc_auc = auc(fpr, tpr)\n",
    "\n",
    "plt.figure(figsize=(6,5))\n",
    "plt.plot(fpr, tpr, label=f\"k-NN (AUC = {roc_auc:.2f})\")\n",
    "plt.plot([0,1], [0,1], linestyle=\"--\", color=\"gray\")\n",
    "plt.xlabel(\"False Positive Rate\")\n",
    "plt.ylabel(\"True Positive Rate\")\n",
    "plt.title(\"ROC Curve\")\n",
    "plt.legend()\n",
    "plt.show()\n"
   ]
  },
  {
   "cell_type": "markdown",
   "id": "f20ceeb8",
   "metadata": {},
   "source": [
    "## Actual vs Predicted (Subset Line Plot)"
   ]
  },
  {
   "cell_type": "code",
   "execution_count": null,
   "id": "7641a0f9",
   "metadata": {},
   "outputs": [],
   "source": [
    "\n",
    "comparison = pd.DataFrame({\"Actual\": y_test.values, \"Predicted\": y_pred}).reset_index(drop=True)\n",
    "subset = comparison.iloc[:50]\n",
    "\n",
    "plt.figure(figsize=(12,5))\n",
    "plt.plot(subset.index, subset[\"Actual\"], label=\"Actual\", color=\"blue\", linewidth=2)\n",
    "plt.plot(subset.index, subset[\"Predicted\"], label=\"Predicted\", color=\"red\", linestyle=\"--\", linewidth=2, alpha=0.7)\n",
    "plt.title(f\"Actual vs Predicted Classes (k-NN, k={best_k}, First 50 Samples)\")\n",
    "plt.xlabel(\"Sample Index\")\n",
    "plt.ylabel(\"Class (0=Malignant, 1=Benign)\")\n",
    "plt.legend()\n",
    "plt.show()\n"
   ]
  }
 ],
 "metadata": {},
 "nbformat": 4,
 "nbformat_minor": 5
}

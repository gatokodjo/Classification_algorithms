{
 "cells": [
  {
   "cell_type": "markdown",
   "id": "fedc0a4d",
   "metadata": {},
   "source": [
    "# Random Forest Classification on Breast Cancer Dataset"
   ]
  },
  {
   "cell_type": "code",
   "execution_count": null,
   "id": "f77bab97",
   "metadata": {},
   "outputs": [],
   "source": [
    "\n",
    "import numpy as np\n",
    "import pandas as pd\n",
    "import matplotlib.pyplot as plt\n",
    "import seaborn as sns\n",
    "\n",
    "from sklearn import datasets\n",
    "from sklearn.model_selection import train_test_split\n",
    "from sklearn.ensemble import RandomForestClassifier\n",
    "from sklearn.metrics import accuracy_score, confusion_matrix, classification_report, roc_curve, auc\n",
    "\n",
    "sns.set(style=\"whitegrid\")\n"
   ]
  },
  {
   "cell_type": "markdown",
   "id": "d856bd0a",
   "metadata": {},
   "source": [
    "## Load Breast Cancer Dataset"
   ]
  },
  {
   "cell_type": "code",
   "execution_count": null,
   "id": "541bb336",
   "metadata": {},
   "outputs": [],
   "source": [
    "\n",
    "cancer = datasets.load_breast_cancer()\n",
    "X = pd.DataFrame(cancer.data, columns=cancer.feature_names)\n",
    "y = pd.Series(cancer.target)\n",
    "\n",
    "print(\"Dataset shape:\", X.shape)\n",
    "print(\"Classes:\", cancer.target_names)\n",
    "print(\"Class distribution:\", y.value_counts())\n"
   ]
  },
  {
   "cell_type": "markdown",
   "id": "37f5c7b9",
   "metadata": {},
   "source": [
    "## Exploratory Data Analysis"
   ]
  },
  {
   "cell_type": "code",
   "execution_count": null,
   "id": "35739fc4",
   "metadata": {},
   "outputs": [],
   "source": [
    "\n",
    "sns.countplot(x=y, palette=\"Set2\")\n",
    "plt.title(\"Class Distribution (0 = Malignant, 1 = Benign)\")\n",
    "plt.show()\n"
   ]
  },
  {
   "cell_type": "markdown",
   "id": "008be85d",
   "metadata": {},
   "source": [
    "## Train-Test Split"
   ]
  },
  {
   "cell_type": "code",
   "execution_count": null,
   "id": "c1627e5c",
   "metadata": {},
   "outputs": [],
   "source": [
    "\n",
    "X_train, X_test, y_train, y_test = train_test_split(X, y, test_size=0.3, random_state=42, stratify=y)\n"
   ]
  },
  {
   "cell_type": "markdown",
   "id": "c9aa9cf3",
   "metadata": {},
   "source": [
    "## Train Random Forest Classifier"
   ]
  },
  {
   "cell_type": "code",
   "execution_count": null,
   "id": "011201fe",
   "metadata": {},
   "outputs": [],
   "source": [
    "\n",
    "rf_default = RandomForestClassifier(random_state=42)\n",
    "rf_default.fit(X_train, y_train)\n",
    "\n",
    "rf_tuned = RandomForestClassifier(n_estimators=200, max_depth=6, random_state=42)\n",
    "rf_tuned.fit(X_train, y_train)\n",
    "\n",
    "print(\"Default RF Accuracy:\", rf_default.score(X_test, y_test))\n",
    "print(\"Tuned RF Accuracy:\", rf_tuned.score(X_test, y_test))\n"
   ]
  },
  {
   "cell_type": "markdown",
   "id": "c9cac869",
   "metadata": {},
   "source": [
    "## Model Evaluation"
   ]
  },
  {
   "cell_type": "code",
   "execution_count": null,
   "id": "fafd87e9",
   "metadata": {},
   "outputs": [],
   "source": [
    "\n",
    "y_pred = rf_tuned.predict(X_test)\n",
    "\n",
    "print(\"Classification Report (Tuned RF):\\n\", classification_report(y_test, y_pred, target_names=cancer.target_names))\n",
    "\n",
    "cm = confusion_matrix(y_test, y_pred)\n",
    "sns.heatmap(cm, annot=True, fmt=\"d\", cmap=\"Blues\", xticklabels=cancer.target_names, yticklabels=cancer.target_names)\n",
    "plt.title(\"Confusion Matrix (Random Forest, Tuned)\")\n",
    "plt.xlabel(\"Predicted\")\n",
    "plt.ylabel(\"Actual\")\n",
    "plt.show()\n"
   ]
  },
  {
   "cell_type": "markdown",
   "id": "7e524ac3",
   "metadata": {},
   "source": [
    "## ROC Curve & AUC"
   ]
  },
  {
   "cell_type": "code",
   "execution_count": null,
   "id": "92fd42d6",
   "metadata": {},
   "outputs": [],
   "source": [
    "\n",
    "y_prob = rf_tuned.predict_proba(X_test)[:,1]\n",
    "fpr, tpr, _ = roc_curve(y_test, y_prob)\n",
    "roc_auc = auc(fpr, tpr)\n",
    "\n",
    "plt.figure(figsize=(6,5))\n",
    "plt.plot(fpr, tpr, label=f\"Random Forest (AUC = {roc_auc:.2f})\")\n",
    "plt.plot([0,1], [0,1], linestyle=\"--\", color=\"gray\")\n",
    "plt.xlabel(\"False Positive Rate\")\n",
    "plt.ylabel(\"True Positive Rate\")\n",
    "plt.title(\"ROC Curve\")\n",
    "plt.legend()\n",
    "plt.show()\n"
   ]
  },
  {
   "cell_type": "markdown",
   "id": "292c0dfa",
   "metadata": {},
   "source": [
    "## Actual vs Predicted (Subset Line Plot)"
   ]
  },
  {
   "cell_type": "code",
   "execution_count": null,
   "id": "7dd2d98b",
   "metadata": {},
   "outputs": [],
   "source": [
    "\n",
    "comparison = pd.DataFrame({\"Actual\": y_test.values, \"Predicted\": y_pred}).reset_index(drop=True)\n",
    "subset = comparison.iloc[:50]\n",
    "\n",
    "plt.figure(figsize=(12,5))\n",
    "plt.plot(subset.index, subset[\"Actual\"], label=\"Actual\", color=\"blue\", linewidth=2)\n",
    "plt.plot(subset.index, subset[\"Predicted\"], label=\"Predicted\", color=\"red\", linestyle=\"--\", linewidth=2, alpha=0.7)\n",
    "plt.title(\"Actual vs Predicted Classes (Random Forest, First 50 Samples)\")\n",
    "plt.xlabel(\"Sample Index\")\n",
    "plt.ylabel(\"Class (0=Malignant, 1=Benign)\")\n",
    "plt.legend()\n",
    "plt.show()\n"
   ]
  },
  {
   "cell_type": "markdown",
   "id": "5dd27173",
   "metadata": {},
   "source": [
    "## Feature Importance"
   ]
  },
  {
   "cell_type": "code",
   "execution_count": null,
   "id": "42449e96",
   "metadata": {},
   "outputs": [],
   "source": [
    "\n",
    "importances = pd.Series(rf_tuned.feature_importances_, index=cancer.feature_names)\n",
    "importances = importances.sort_values(ascending=True)\n",
    "\n",
    "plt.figure(figsize=(8,10))\n",
    "importances.plot(kind=\"barh\", color=\"teal\")\n",
    "plt.title(\"Feature Importances (Random Forest, Tuned)\")\n",
    "plt.show()\n",
    "\n",
    "# Top 10\n",
    "top_features = importances.sort_values(ascending=False).head(10)\n",
    "plt.figure(figsize=(8,6))\n",
    "sns.barplot(x=top_features.values, y=top_features.index, palette=\"viridis\")\n",
    "plt.title(\"Top 10 Most Important Features (Random Forest)\")\n",
    "plt.show()\n"
   ]
  }
 ],
 "metadata": {},
 "nbformat": 4,
 "nbformat_minor": 5
}

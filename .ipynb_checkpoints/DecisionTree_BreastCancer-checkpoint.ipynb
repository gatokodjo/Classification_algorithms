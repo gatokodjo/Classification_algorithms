{
 "cells": [
  {
   "cell_type": "markdown",
   "id": "9edb21ed",
   "metadata": {},
   "source": [
    "# Decision Tree Classification on Breast Cancer Dataset"
   ]
  },
  {
   "cell_type": "code",
   "execution_count": null,
   "id": "ef9c3c6b",
   "metadata": {},
   "outputs": [],
   "source": [
    "\n",
    "import numpy as np\n",
    "import pandas as pd\n",
    "import matplotlib.pyplot as plt\n",
    "import seaborn as sns\n",
    "\n",
    "from sklearn import datasets\n",
    "from sklearn.model_selection import train_test_split\n",
    "from sklearn.tree import DecisionTreeClassifier, plot_tree\n",
    "from sklearn.metrics import accuracy_score, confusion_matrix, classification_report, roc_curve, auc\n",
    "\n",
    "sns.set(style=\"whitegrid\")\n"
   ]
  },
  {
   "cell_type": "markdown",
   "id": "0f810b6d",
   "metadata": {},
   "source": [
    "## Load Breast Cancer Dataset"
   ]
  },
  {
   "cell_type": "code",
   "execution_count": null,
   "id": "59709390",
   "metadata": {},
   "outputs": [],
   "source": [
    "\n",
    "cancer = datasets.load_breast_cancer()\n",
    "X = pd.DataFrame(cancer.data, columns=cancer.feature_names)\n",
    "y = pd.Series(cancer.target)\n",
    "\n",
    "print(\"Dataset shape:\", X.shape)\n",
    "print(\"Classes:\", cancer.target_names)\n",
    "print(\"Class distribution:\", y.value_counts())\n"
   ]
  },
  {
   "cell_type": "markdown",
   "id": "47b1247a",
   "metadata": {},
   "source": [
    "## Exploratory Data Analysis"
   ]
  },
  {
   "cell_type": "code",
   "execution_count": null,
   "id": "24534dc0",
   "metadata": {},
   "outputs": [],
   "source": [
    "\n",
    "sns.countplot(x=y, palette=\"Set2\")\n",
    "plt.title(\"Class Distribution (0 = Malignant, 1 = Benign)\")\n",
    "plt.show()\n"
   ]
  },
  {
   "cell_type": "markdown",
   "id": "316c4b86",
   "metadata": {},
   "source": [
    "## Train-Test Split"
   ]
  },
  {
   "cell_type": "code",
   "execution_count": null,
   "id": "25a0f382",
   "metadata": {},
   "outputs": [],
   "source": [
    "\n",
    "X_train, X_test, y_train, y_test = train_test_split(X, y, test_size=0.3, random_state=42, stratify=y)\n"
   ]
  },
  {
   "cell_type": "markdown",
   "id": "0dd8048c",
   "metadata": {},
   "source": [
    "## Train Decision Tree Classifier"
   ]
  },
  {
   "cell_type": "code",
   "execution_count": null,
   "id": "39a838f9",
   "metadata": {},
   "outputs": [],
   "source": [
    "\n",
    "dt_default = DecisionTreeClassifier(random_state=42)\n",
    "dt_default.fit(X_train, y_train)\n",
    "\n",
    "dt_depth4 = DecisionTreeClassifier(max_depth=4, random_state=42)\n",
    "dt_depth4.fit(X_train, y_train)\n",
    "\n",
    "print(\"Default Tree Accuracy:\", dt_default.score(X_test, y_test))\n",
    "print(\"Depth=4 Tree Accuracy:\", dt_depth4.score(X_test, y_test))\n"
   ]
  },
  {
   "cell_type": "markdown",
   "id": "8b262cba",
   "metadata": {},
   "source": [
    "## Model Evaluation"
   ]
  },
  {
   "cell_type": "code",
   "execution_count": null,
   "id": "7bccc48b",
   "metadata": {},
   "outputs": [],
   "source": [
    "\n",
    "y_pred = dt_depth4.predict(X_test)\n",
    "\n",
    "print(\"Classification Report (Depth=4 Tree):\\n\", classification_report(y_test, y_pred, target_names=cancer.target_names))\n",
    "\n",
    "cm = confusion_matrix(y_test, y_pred)\n",
    "sns.heatmap(cm, annot=True, fmt=\"d\", cmap=\"Blues\", xticklabels=cancer.target_names, yticklabels=cancer.target_names)\n",
    "plt.title(\"Confusion Matrix (Decision Tree, Depth=4)\")\n",
    "plt.xlabel(\"Predicted\")\n",
    "plt.ylabel(\"Actual\")\n",
    "plt.show()\n"
   ]
  },
  {
   "cell_type": "markdown",
   "id": "4633c6ee",
   "metadata": {},
   "source": [
    "## ROC Curve & AUC"
   ]
  },
  {
   "cell_type": "code",
   "execution_count": null,
   "id": "223dcf63",
   "metadata": {},
   "outputs": [],
   "source": [
    "\n",
    "y_prob = dt_depth4.predict_proba(X_test)[:,1]\n",
    "fpr, tpr, _ = roc_curve(y_test, y_prob)\n",
    "roc_auc = auc(fpr, tpr)\n",
    "\n",
    "plt.figure(figsize=(6,5))\n",
    "plt.plot(fpr, tpr, label=f\"Decision Tree (AUC = {roc_auc:.2f})\")\n",
    "plt.plot([0,1], [0,1], linestyle=\"--\", color=\"gray\")\n",
    "plt.xlabel(\"False Positive Rate\")\n",
    "plt.ylabel(\"True Positive Rate\")\n",
    "plt.title(\"ROC Curve\")\n",
    "plt.legend()\n",
    "plt.show()\n"
   ]
  },
  {
   "cell_type": "markdown",
   "id": "4c784bec",
   "metadata": {},
   "source": [
    "## Actual vs Predicted (Subset Line Plot)"
   ]
  },
  {
   "cell_type": "code",
   "execution_count": null,
   "id": "724761bc",
   "metadata": {},
   "outputs": [],
   "source": [
    "\n",
    "comparison = pd.DataFrame({\"Actual\": y_test.values, \"Predicted\": y_pred}).reset_index(drop=True)\n",
    "subset = comparison.iloc[:50]\n",
    "\n",
    "plt.figure(figsize=(12,5))\n",
    "plt.plot(subset.index, subset[\"Actual\"], label=\"Actual\", color=\"blue\", linewidth=2)\n",
    "plt.plot(subset.index, subset[\"Predicted\"], label=\"Predicted\", color=\"red\", linestyle=\"--\", linewidth=2, alpha=0.7)\n",
    "plt.title(\"Actual vs Predicted Classes (Decision Tree, First 50 Samples)\")\n",
    "plt.xlabel(\"Sample Index\")\n",
    "plt.ylabel(\"Class (0=Malignant, 1=Benign)\")\n",
    "plt.legend()\n",
    "plt.show()\n"
   ]
  },
  {
   "cell_type": "markdown",
   "id": "a6126049",
   "metadata": {},
   "source": [
    "## Feature Importance"
   ]
  },
  {
   "cell_type": "code",
   "execution_count": null,
   "id": "f099d71c",
   "metadata": {},
   "outputs": [],
   "source": [
    "\n",
    "importances = pd.Series(dt_depth4.feature_importances_, index=cancer.feature_names)\n",
    "importances = importances.sort_values(ascending=True)\n",
    "\n",
    "plt.figure(figsize=(8,10))\n",
    "importances.plot(kind=\"barh\", color=\"teal\")\n",
    "plt.title(\"Feature Importances (Decision Tree, Depth=4)\")\n",
    "plt.show()\n"
   ]
  },
  {
   "cell_type": "markdown",
   "id": "473f601a",
   "metadata": {},
   "source": [
    "## Decision Tree Visualization"
   ]
  },
  {
   "cell_type": "code",
   "execution_count": null,
   "id": "6987b75d",
   "metadata": {},
   "outputs": [],
   "source": [
    "\n",
    "plt.figure(figsize=(20,10))\n",
    "plot_tree(dt_depth4, feature_names=cancer.feature_names, class_names=cancer.target_names, filled=True, rounded=True, fontsize=8)\n",
    "plt.show()\n"
   ]
  }
 ],
 "metadata": {},
 "nbformat": 4,
 "nbformat_minor": 5
}

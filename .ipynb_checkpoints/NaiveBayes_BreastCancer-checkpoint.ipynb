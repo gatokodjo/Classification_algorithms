{
 "cells": [
  {
   "cell_type": "markdown",
   "id": "24f11032",
   "metadata": {},
   "source": [
    "# 🧪 Naive Bayes Classifier on Breast Cancer Dataset"
   ]
  },
  {
   "cell_type": "markdown",
   "id": "d5b367a4",
   "metadata": {},
   "source": [
    "In this notebook, we will apply the **Naive Bayes algorithm** on the Breast Cancer dataset.  \n",
    "We will go step by step:  \n",
    "1. Import dataset  \n",
    "2. Explore data  \n",
    "3. Train-test split  \n",
    "4. Standardization  \n",
    "5. Train Naive Bayes  \n",
    "6. Evaluate performance with metrics & plots  \n"
   ]
  },
  {
   "cell_type": "markdown",
   "id": "26939a9b",
   "metadata": {},
   "source": [
    "## 1. Import required libraries"
   ]
  },
  {
   "cell_type": "code",
   "execution_count": null,
   "id": "a9008b22",
   "metadata": {},
   "outputs": [],
   "source": [
    "import numpy as np\n",
    "import pandas as pd\n",
    "import matplotlib.pyplot as plt\n",
    "import seaborn as sns\n",
    "\n",
    "from sklearn.datasets import load_breast_cancer\n",
    "from sklearn.model_selection import train_test_split\n",
    "from sklearn.preprocessing import StandardScaler\n",
    "from sklearn.naive_bayes import GaussianNB\n",
    "from sklearn.metrics import (\n",
    "    accuracy_score, confusion_matrix, classification_report, roc_curve, auc,\n",
    "    precision_recall_curve, average_precision_score\n",
    ")"
   ]
  },
  {
   "cell_type": "markdown",
   "id": "860b42b7",
   "metadata": {},
   "source": [
    "## 2. Load the Breast Cancer dataset"
   ]
  },
  {
   "cell_type": "code",
   "execution_count": null,
   "id": "3cfd5c10",
   "metadata": {},
   "outputs": [],
   "source": [
    "# Load dataset\n",
    "data = load_breast_cancer()\n",
    "X = pd.DataFrame(data.data, columns=data.feature_names)\n",
    "y = pd.Series(data.target)\n",
    "\n",
    "print(\"Dataset shape:\", X.shape)\n",
    "print(\"Target classes:\", data.target_names)\n",
    "\n",
    "# Show first rows\n",
    "X.head()"
   ]
  },
  {
   "cell_type": "markdown",
   "id": "f2c522f3",
   "metadata": {},
   "source": [
    "## 3. Explore dataset: class distribution"
   ]
  },
  {
   "cell_type": "code",
   "execution_count": null,
   "id": "b6ff2d1b",
   "metadata": {},
   "outputs": [],
   "source": [
    "# Visualize class distribution\n",
    "sns.countplot(x=y)\n",
    "plt.title(\"Class Distribution (0=Malignant, 1=Benign)\")\n",
    "plt.show()"
   ]
  },
  {
   "cell_type": "markdown",
   "id": "f2ef0ef8",
   "metadata": {},
   "source": [
    "## 4. Train-test split"
   ]
  },
  {
   "cell_type": "code",
   "execution_count": null,
   "id": "45ace423",
   "metadata": {},
   "outputs": [],
   "source": [
    "X_train, X_test, y_train, y_test = train_test_split(\n",
    "    X, y, test_size=0.2, random_state=42, stratify=y\n",
    ")"
   ]
  },
  {
   "cell_type": "markdown",
   "id": "0882fcda",
   "metadata": {},
   "source": [
    "## 5. Standardize features"
   ]
  },
  {
   "cell_type": "code",
   "execution_count": null,
   "id": "b818d855",
   "metadata": {},
   "outputs": [],
   "source": [
    "# Standardizing features for better performance\n",
    "scaler = StandardScaler()\n",
    "X_train_scaled = scaler.fit_transform(X_train)\n",
    "X_test_scaled = scaler.transform(X_test)"
   ]
  },
  {
   "cell_type": "markdown",
   "id": "8f3fa8b0",
   "metadata": {},
   "source": [
    "## 6. Train Gaussian Naive Bayes"
   ]
  },
  {
   "cell_type": "code",
   "execution_count": null,
   "id": "da2af2cb",
   "metadata": {},
   "outputs": [],
   "source": [
    "nb = GaussianNB()\n",
    "nb.fit(X_train_scaled, y_train)\n",
    "\n",
    "# Predictions\n",
    "y_pred = nb.predict(X_test_scaled)\n",
    "y_prob = nb.predict_proba(X_test_scaled)[:, 1]"
   ]
  },
  {
   "cell_type": "markdown",
   "id": "b64a349e",
   "metadata": {},
   "source": [
    "## 7. Model Evaluation: Accuracy & Report"
   ]
  },
  {
   "cell_type": "code",
   "execution_count": null,
   "id": "52b6f54e",
   "metadata": {},
   "outputs": [],
   "source": [
    "print(\"Accuracy:\", accuracy_score(y_test, y_pred))\n",
    "print(\"\\nClassification Report:\\n\", classification_report(y_test, y_pred))"
   ]
  },
  {
   "cell_type": "markdown",
   "id": "bf251f57",
   "metadata": {},
   "source": [
    "## 8. Confusion Matrix"
   ]
  },
  {
   "cell_type": "code",
   "execution_count": null,
   "id": "04363f8c",
   "metadata": {},
   "outputs": [],
   "source": [
    "cm = confusion_matrix(y_test, y_pred)\n",
    "plt.figure(figsize=(6,4))\n",
    "sns.heatmap(cm, annot=True, fmt=\"d\", cmap=\"Blues\",\n",
    "            xticklabels=data.target_names,\n",
    "            yticklabels=data.target_names)\n",
    "plt.title(\"Confusion Matrix\")\n",
    "plt.xlabel(\"Predicted\")\n",
    "plt.ylabel(\"Actual\")\n",
    "plt.show()"
   ]
  },
  {
   "cell_type": "markdown",
   "id": "b6a0b554",
   "metadata": {},
   "source": [
    "## 9. ROC Curve & AUC"
   ]
  },
  {
   "cell_type": "code",
   "execution_count": null,
   "id": "c79f28b3",
   "metadata": {},
   "outputs": [],
   "source": [
    "fpr, tpr, thresholds = roc_curve(y_test, y_prob)\n",
    "roc_auc = auc(fpr, tpr)\n",
    "\n",
    "plt.figure(figsize=(6,5))\n",
    "plt.plot(fpr, tpr, color=\"blue\", label=f\"AUC = {roc_auc:.2f}\")\n",
    "plt.plot([0,1], [0,1], color=\"red\", linestyle=\"--\")\n",
    "plt.title(\"ROC Curve\")\n",
    "plt.xlabel(\"False Positive Rate\")\n",
    "plt.ylabel(\"True Positive Rate\")\n",
    "plt.legend()\n",
    "plt.show()"
   ]
  },
  {
   "cell_type": "markdown",
   "id": "7057d96d",
   "metadata": {},
   "source": [
    "## 10. Precision-Recall Curve"
   ]
  },
  {
   "cell_type": "code",
   "execution_count": null,
   "id": "f5d8beaf",
   "metadata": {},
   "outputs": [],
   "source": [
    "precision, recall, thresholds = precision_recall_curve(y_test, y_prob)\n",
    "ap = average_precision_score(y_test, y_prob)\n",
    "\n",
    "plt.figure(figsize=(6,5))\n",
    "plt.plot(recall, precision, label=f\"AP = {ap:.2f}\", color=\"green\")\n",
    "plt.title(\"Precision-Recall Curve\")\n",
    "plt.xlabel(\"Recall\")\n",
    "plt.ylabel(\"Precision\")\n",
    "plt.legend()\n",
    "plt.show()"
   ]
  },
  {
   "cell_type": "markdown",
   "id": "4e0472cf",
   "metadata": {},
   "source": [
    "## 11. Actual vs Predicted (Line Plot)"
   ]
  },
  {
   "cell_type": "code",
   "execution_count": null,
   "id": "79e0a8f0",
   "metadata": {},
   "outputs": [],
   "source": [
    "comparison = pd.DataFrame({\"Actual\": y_test.values, \"Predicted\": y_pred}).reset_index(drop=True)\n",
    "\n",
    "plt.figure(figsize=(12,5))\n",
    "plt.plot(comparison.index, comparison[\"Actual\"], label=\"Actual\", color=\"blue\", linewidth=2)\n",
    "plt.plot(comparison.index, comparison[\"Predicted\"], label=\"Predicted\", color=\"red\", linestyle=\"--\", linewidth=2, alpha=0.7)\n",
    "plt.title(\"Actual vs Predicted Classes (Naive Bayes)\")\n",
    "plt.xlabel(\"Sample Index\")\n",
    "plt.ylabel(\"Class (0=Malignant, 1=Benign)\")\n",
    "plt.legend()\n",
    "plt.show()"
   ]
  },
  {
   "cell_type": "markdown",
   "id": "8c0eea82",
   "metadata": {},
   "source": [
    "## 12. Scatter Plot: Actual vs Predicted"
   ]
  },
  {
   "cell_type": "code",
   "execution_count": null,
   "id": "c6544b64",
   "metadata": {},
   "outputs": [],
   "source": [
    "plt.figure(figsize=(8,5))\n",
    "plt.scatter(comparison.index, comparison[\"Actual\"], label=\"Actual\", alpha=0.7, color=\"blue\")\n",
    "plt.scatter(comparison.index, comparison[\"Predicted\"], label=\"Predicted\", alpha=0.5, color=\"red\", marker=\"x\")\n",
    "plt.title(\"Scatter Plot: Actual vs Predicted\")\n",
    "plt.xlabel(\"Sample Index\")\n",
    "plt.ylabel(\"Class\")\n",
    "plt.legend()\n",
    "plt.show()"
   ]
  }
 ],
 "metadata": {},
 "nbformat": 4,
 "nbformat_minor": 5
}
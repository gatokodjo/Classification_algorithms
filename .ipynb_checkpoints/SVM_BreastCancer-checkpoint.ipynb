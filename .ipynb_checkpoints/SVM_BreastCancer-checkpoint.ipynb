{
 "cells": [
  {
   "cell_type": "markdown",
   "id": "b5049298",
   "metadata": {},
   "source": [
    "# Support Vector Machine (SVM) Classification on Breast Cancer Dataset"
   ]
  },
  {
   "cell_type": "code",
   "execution_count": null,
   "id": "78dadea2",
   "metadata": {},
   "outputs": [],
   "source": [
    "\n",
    "import numpy as np\n",
    "import pandas as pd\n",
    "import matplotlib.pyplot as plt\n",
    "import seaborn as sns\n",
    "\n",
    "from sklearn import datasets\n",
    "from sklearn.model_selection import train_test_split\n",
    "from sklearn.preprocessing import StandardScaler\n",
    "from sklearn.svm import SVC\n",
    "from sklearn.metrics import accuracy_score, confusion_matrix, classification_report, roc_curve, auc\n",
    "from sklearn.decomposition import PCA\n",
    "\n",
    "sns.set(style=\"whitegrid\")\n"
   ]
  },
  {
   "cell_type": "markdown",
   "id": "1a076602",
   "metadata": {},
   "source": [
    "## Load Breast Cancer Dataset"
   ]
  },
  {
   "cell_type": "code",
   "execution_count": null,
   "id": "9af60c24",
   "metadata": {},
   "outputs": [],
   "source": [
    "\n",
    "cancer = datasets.load_breast_cancer()\n",
    "X = pd.DataFrame(cancer.data, columns=cancer.feature_names)\n",
    "y = pd.Series(cancer.target)\n",
    "\n",
    "print(\"Dataset shape:\", X.shape)\n",
    "print(\"Classes:\", cancer.target_names)\n",
    "print(\"Class distribution:\", y.value_counts())\n"
   ]
  },
  {
   "cell_type": "markdown",
   "id": "b29620a6",
   "metadata": {},
   "source": [
    "## Exploratory Data Analysis"
   ]
  },
  {
   "cell_type": "code",
   "execution_count": null,
   "id": "5290907e",
   "metadata": {},
   "outputs": [],
   "source": [
    "\n",
    "# Visualize class distribution\n",
    "sns.countplot(x=y, palette=\"Set2\")\n",
    "plt.title(\"Class Distribution (0 = Malignant, 1 = Benign)\")\n",
    "plt.show()\n"
   ]
  },
  {
   "cell_type": "markdown",
   "id": "0df0cac0",
   "metadata": {},
   "source": [
    "## Train-Test Split and Scaling"
   ]
  },
  {
   "cell_type": "code",
   "execution_count": null,
   "id": "a58a9e79",
   "metadata": {},
   "outputs": [],
   "source": [
    "\n",
    "X_train, X_test, y_train, y_test = train_test_split(X, y, test_size=0.3, random_state=42, stratify=y)\n",
    "\n",
    "scaler = StandardScaler()\n",
    "X_train_scaled = scaler.fit_transform(X_train)\n",
    "X_test_scaled = scaler.transform(X_test)\n"
   ]
  },
  {
   "cell_type": "markdown",
   "id": "7bf87ae8",
   "metadata": {},
   "source": [
    "## Train Support Vector Machine Models"
   ]
  },
  {
   "cell_type": "code",
   "execution_count": null,
   "id": "2f575d13",
   "metadata": {},
   "outputs": [],
   "source": [
    "\n",
    "# Linear Kernel\n",
    "svm_linear = SVC(kernel=\"linear\", probability=True, random_state=42)\n",
    "svm_linear.fit(X_train_scaled, y_train)\n",
    "\n",
    "# RBF Kernel\n",
    "svm_rbf = SVC(kernel=\"rbf\", probability=True, random_state=42)\n",
    "svm_rbf.fit(X_train_scaled, y_train)\n",
    "\n",
    "print(\"Linear Kernel Accuracy:\", svm_linear.score(X_test_scaled, y_test))\n",
    "print(\"RBF Kernel Accuracy:\", svm_rbf.score(X_test_scaled, y_test))\n"
   ]
  },
  {
   "cell_type": "markdown",
   "id": "a65aa8c4",
   "metadata": {},
   "source": [
    "## Model Evaluation"
   ]
  },
  {
   "cell_type": "code",
   "execution_count": null,
   "id": "ca10c20b",
   "metadata": {},
   "outputs": [],
   "source": [
    "\n",
    "y_pred_linear = svm_linear.predict(X_test_scaled)\n",
    "y_pred_rbf = svm_rbf.predict(X_test_scaled)\n",
    "\n",
    "print(\"Classification Report (Linear Kernel):\\n\", classification_report(y_test, y_pred_linear, target_names=cancer.target_names))\n",
    "print(\"Classification Report (RBF Kernel):\\n\", classification_report(y_test, y_pred_rbf, target_names=cancer.target_names))\n",
    "\n",
    "# Confusion matrix heatmap\n",
    "cm = confusion_matrix(y_test, y_pred_linear)\n",
    "sns.heatmap(cm, annot=True, fmt=\"d\", cmap=\"Blues\", xticklabels=cancer.target_names, yticklabels=cancer.target_names)\n",
    "plt.title(\"Confusion Matrix (Linear Kernel)\")\n",
    "plt.xlabel(\"Predicted\")\n",
    "plt.ylabel(\"Actual\")\n",
    "plt.show()\n"
   ]
  },
  {
   "cell_type": "markdown",
   "id": "75b814ca",
   "metadata": {},
   "source": [
    "## ROC Curve & AUC"
   ]
  },
  {
   "cell_type": "code",
   "execution_count": null,
   "id": "863a1eb2",
   "metadata": {},
   "outputs": [],
   "source": [
    "\n",
    "y_prob_linear = svm_linear.predict_proba(X_test_scaled)[:,1]\n",
    "fpr, tpr, _ = roc_curve(y_test, y_prob_linear)\n",
    "roc_auc = auc(fpr, tpr)\n",
    "\n",
    "plt.figure(figsize=(6,5))\n",
    "plt.plot(fpr, tpr, label=f\"Linear SVM (AUC = {roc_auc:.2f})\")\n",
    "plt.plot([0,1], [0,1], linestyle=\"--\", color=\"gray\")\n",
    "plt.xlabel(\"False Positive Rate\")\n",
    "plt.ylabel(\"True Positive Rate\")\n",
    "plt.title(\"ROC Curve\")\n",
    "plt.legend()\n",
    "plt.show()\n"
   ]
  },
  {
   "cell_type": "markdown",
   "id": "d155497c",
   "metadata": {},
   "source": [
    "## Actual vs Predicted (Line Plot)"
   ]
  },
  {
   "cell_type": "code",
   "execution_count": null,
   "id": "9f9773f3",
   "metadata": {},
   "outputs": [],
   "source": [
    "\n",
    "comparison = pd.DataFrame({\"Actual\": y_test.values, \"Predicted\": y_pred_linear}).reset_index(drop=True)\n",
    "\n",
    "plt.figure(figsize=(12,5))\n",
    "plt.plot(comparison.index, comparison[\"Actual\"], label=\"Actual\", color=\"blue\", linewidth=2)\n",
    "plt.plot(comparison.index, comparison[\"Predicted\"], label=\"Predicted\", color=\"red\", linestyle=\"--\", linewidth=2, alpha=0.7)\n",
    "plt.title(\"Actual vs Predicted Classes (Linear SVM)\")\n",
    "plt.xlabel(\"Sample Index\")\n",
    "plt.ylabel(\"Class (0=Malignant, 1=Benign)\")\n",
    "plt.legend()\n",
    "plt.show()\n"
   ]
  },
  {
   "cell_type": "markdown",
   "id": "8f7dd0de",
   "metadata": {},
   "source": [
    "## PCA Projection with Decision Boundary"
   ]
  },
  {
   "cell_type": "code",
   "execution_count": null,
   "id": "40a841d4",
   "metadata": {},
   "outputs": [],
   "source": [
    "\n",
    "pca = PCA(n_components=2)\n",
    "X_pca = pca.fit_transform(X)\n",
    "\n",
    "X_train_pca, X_test_pca, y_train_pca, y_test_pca = train_test_split(X_pca, y, test_size=0.3, random_state=42, stratify=y)\n",
    "\n",
    "svm_pca = SVC(kernel=\"linear\", probability=True, random_state=42)\n",
    "svm_pca.fit(X_train_pca, y_train_pca)\n",
    "\n",
    "xx, yy = np.meshgrid(np.linspace(X_pca[:,0].min()-1, X_pca[:,0].max()+1, 200),\n",
    "                     np.linspace(X_pca[:,1].min()-1, X_pca[:,1].max()+1, 200))\n",
    "Z = svm_pca.predict(np.c_[xx.ravel(), yy.ravel()]).reshape(xx.shape)\n",
    "\n",
    "plt.figure(figsize=(8,6))\n",
    "plt.contourf(xx, yy, Z, alpha=0.3, cmap=\"Set1\")\n",
    "sns.scatterplot(x=X_pca[:,0], y=X_pca[:,1], hue=y, palette=\"Set1\", alpha=0.8)\n",
    "plt.title(\"PCA Projection with Linear SVM Decision Boundary\")\n",
    "plt.show()\n"
   ]
  }
 ],
 "metadata": {},
 "nbformat": 4,
 "nbformat_minor": 5
}

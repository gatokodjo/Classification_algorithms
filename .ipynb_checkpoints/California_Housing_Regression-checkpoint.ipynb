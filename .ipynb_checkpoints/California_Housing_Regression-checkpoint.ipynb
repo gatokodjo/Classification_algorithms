{
 "cells": [
  {
   "cell_type": "markdown",
   "id": "a3478fc2",
   "metadata": {},
   "source": [
    "# California Housing — Linear Regression Walkthrough\n",
    "This notebook demonstrates a complete regression workflow using the **California Housing dataset**, available from scikit-learn. We'll walk through data exploration, model training, evaluation, and assumptions.\n",
    "\n",
    "**Steps covered:**\n",
    "1. Load dataset & inspect structure\n",
    "2. Exploratory Data Analysis (EDA)\n",
    "3. Train/test split\n",
    "4. Fit Linear Regression model\n",
    "5. Evaluate with metrics (MAE, MSE, RMSE, R²)\n",
    "6. Check regression assumptions with residual plots\n",
    "7. (Optional) Improve with Ridge & Lasso\n"
   ]
  },
  {
   "cell_type": "markdown",
   "id": "00d8ce3c",
   "metadata": {},
   "source": [
    "## 1. Setup & Imports"
   ]
  },
  {
   "cell_type": "code",
   "execution_count": null,
   "id": "1eed3503",
   "metadata": {},
   "outputs": [],
   "source": [
    "import sys, numpy as np, pandas as pd\n",
    "import matplotlib.pyplot as plt\n",
    "import seaborn as sns\n",
    "\n",
    "from sklearn.datasets import fetch_california_housing\n",
    "from sklearn.model_selection import train_test_split\n",
    "from sklearn.linear_model import LinearRegression, Ridge, Lasso\n",
    "from sklearn.metrics import mean_absolute_error, mean_squared_error, r2_score\n",
    "\n",
    "# Reproducibility\n",
    "np.random.seed(42)\n",
    "\n",
    "print(\"Python:\", sys.version.split()[0])\n",
    "print(\"NumPy:\", np.__version__)\n",
    "print(\"Pandas:\", pd.__version__)"
   ]
  },
  {
   "cell_type": "markdown",
   "id": "0f8e0ba8",
   "metadata": {},
   "source": [
    "## 2. Load Dataset\n",
    "We use scikit-learn's California Housing dataset, which contains information like median income, house age, and population."
   ]
  },
  {
   "cell_type": "code",
   "execution_count": null,
   "id": "2225267f",
   "metadata": {},
   "outputs": [],
   "source": [
    "housing = fetch_california_housing(as_frame=True)\n",
    "df = housing.frame\n",
    "df.head()"
   ]
  },
  {
   "cell_type": "markdown",
   "id": "6baab3f0",
   "metadata": {},
   "source": [
    "## 3. Exploratory Data Analysis (EDA)\n",
    "Check shape, summary stats, missing values, and correlations."
   ]
  },
  {
   "cell_type": "code",
   "execution_count": null,
   "id": "ef7dba9f",
   "metadata": {},
   "outputs": [],
   "source": [
    "print(\"Shape:\", df.shape)\n",
    "print(\"Columns:\", df.columns.tolist())\n",
    "print(\"\\nMissing values per column:\\n\", df.isnull().sum())\n",
    "\n",
    "df.describe()"
   ]
  },
  {
   "cell_type": "code",
   "execution_count": null,
   "id": "bdca9ce4",
   "metadata": {},
   "outputs": [],
   "source": [
    "# Correlation heatmap\n",
    "plt.figure(figsize=(10,6))\n",
    "sns.heatmap(df.corr(), annot=False, cmap=\"coolwarm\", center=0)\n",
    "plt.title(\"Correlation Heatmap of Features\")\n",
    "plt.show()"
   ]
  },
  {
   "cell_type": "markdown",
   "id": "d99be02d",
   "metadata": {},
   "source": [
    "## 4. Split Data\n",
    "Separate features (X) and target (y), then split into training and testing sets."
   ]
  },
  {
   "cell_type": "code",
   "execution_count": null,
   "id": "1603f6be",
   "metadata": {},
   "outputs": [],
   "source": [
    "X = df.drop(columns=[\"MedHouseVal\"])  # features\n",
    "y = df[\"MedHouseVal\"]  # target (median house value)\n",
    "\n",
    "X_train, X_test, y_train, y_test = train_test_split(X, y, test_size=0.2, random_state=42)\n",
    "X_train.shape, X_test.shape"
   ]
  },
  {
   "cell_type": "markdown",
   "id": "fccefc00",
   "metadata": {},
   "source": [
    "## 5. Fit Linear Regression Model"
   ]
  },
  {
   "cell_type": "code",
   "execution_count": null,
   "id": "27f995cd",
   "metadata": {},
   "outputs": [],
   "source": [
    "model = LinearRegression()\n",
    "model.fit(X_train, y_train)\n",
    "\n",
    "print(\"Intercept:\", model.intercept_)\n",
    "print(\"Coefficients:\")\n",
    "for name, coef in zip(X.columns, model.coef_):\n",
    "    print(f\"  {name}: {coef:.4f}\")"
   ]
  },
  {
   "cell_type": "markdown",
   "id": "034df58f",
   "metadata": {},
   "source": [
    "## 6. Predictions & Evaluation\n",
    "We use standard regression metrics: MAE, MSE, RMSE, and R²."
   ]
  },
  {
   "cell_type": "code",
   "execution_count": null,
   "id": "0b15a373",
   "metadata": {},
   "outputs": [],
   "source": [
    "y_train_pred = model.predict(X_train)\n",
    "y_test_pred = model.predict(X_test)\n",
    "\n",
    "def regression_report(y_true, y_pred, prefix=\"\"):\n",
    "    mae = mean_absolute_error(y_true, y_pred)\n",
    "    mse = mean_squared_error(y_true, y_pred)\n",
    "    rmse = np.sqrt(mse)\n",
    "    r2 = r2_score(y_true, y_pred)\n",
    "    print(f\"{prefix}MAE : {mae:.4f}\")\n",
    "    print(f\"{prefix}MSE : {mse:.4f}\")\n",
    "    print(f\"{prefix}RMSE: {rmse:.4f}\")\n",
    "    print(f\"{prefix}R²  : {r2:.4f}\")\n",
    "\n",
    "print(\"Train set:\")\n",
    "regression_report(y_train, y_train_pred, prefix=\"  \")\n",
    "print(\"\\nTest set:\")\n",
    "regression_report(y_test, y_test_pred, prefix=\"  \")"
   ]
  },
  {
   "cell_type": "markdown",
   "id": "2b2a7b89",
   "metadata": {},
   "source": [
    "## 7. Residual Analysis\n",
    "Check assumptions of linear regression: linearity, homoscedasticity, normality."
   ]
  },
  {
   "cell_type": "code",
   "execution_count": null,
   "id": "27f7ebaa",
   "metadata": {},
   "outputs": [],
   "source": [
    "train_residuals = y_train - y_train_pred\n",
    "\n",
    "# Residuals vs Fitted\n",
    "plt.figure(figsize=(6,4))\n",
    "plt.scatter(y_train_pred, train_residuals, alpha=0.5)\n",
    "plt.axhline(0, color='red', linestyle='--')\n",
    "plt.xlabel(\"Fitted values\")\n",
    "plt.ylabel(\"Residuals\")\n",
    "plt.title(\"Residuals vs Fitted (Train)\")\n",
    "plt.show()\n",
    "\n",
    "# Histogram of residuals\n",
    "plt.figure(figsize=(6,4))\n",
    "plt.hist(train_residuals, bins=30, edgecolor='k')\n",
    "plt.title(\"Histogram of Residuals (Train)\")\n",
    "plt.xlabel(\"Residual\")\n",
    "plt.ylabel(\"Frequency\")\n",
    "plt.show()"
   ]
  },
  {
   "cell_type": "markdown",
   "id": "f71ea7a9",
   "metadata": {},
   "source": [
    "## 8. Optional: Ridge & Lasso Regression\n",
    "Compare performance of regularized linear models."
   ]
  },
  {
   "cell_type": "code",
   "execution_count": null,
   "id": "73fd0b6e",
   "metadata": {},
   "outputs": [],
   "source": [
    "ridge = Ridge(alpha=1.0)\n",
    "lasso = Lasso(alpha=0.01, max_iter=10000)\n",
    "\n",
    "ridge.fit(X_train, y_train)\n",
    "lasso.fit(X_train, y_train)\n",
    "\n",
    "print(\"Ridge (train R², test R²):\", ridge.score(X_train, y_train), ridge.score(X_test, y_test))\n",
    "print(\"Lasso (train R², test R²):\", lasso.score(X_train, y_train), lasso.score(X_test, y_test))"
   ]
  }
 ],
 "metadata": {},
 "nbformat": 4,
 "nbformat_minor": 5
}

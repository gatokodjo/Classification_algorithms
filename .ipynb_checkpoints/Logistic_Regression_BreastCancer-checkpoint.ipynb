{
 "cells": [
  {
   "cell_type": "markdown",
   "id": "d874a2bc",
   "metadata": {},
   "source": [
    "# Logistic Regression — Breast Cancer Dataset\n",
    "This notebook demonstrates **Logistic Regression** using the real-world **Breast Cancer dataset** from `sklearn.datasets`.\n",
    "\n",
    "Steps covered:\n",
    "1. Setup & imports\n",
    "2. Load dataset\n",
    "3. Exploratory Data Analysis (EDA)\n",
    "4. Train/test split\n",
    "5. Fit Logistic Regression model\n",
    "6. Evaluate performance\n",
    "7. ROC curve & AUC\n",
    "8. Feature importance (coefficients)\n"
   ]
  },
  {
   "cell_type": "markdown",
   "id": "0ea0f696",
   "metadata": {},
   "source": [
    "## 1. Setup & Imports"
   ]
  },
  {
   "cell_type": "code",
   "execution_count": null,
   "id": "5837f46d",
   "metadata": {},
   "outputs": [],
   "source": [
    "import sys, numpy as np, pandas as pd\n",
    "import matplotlib.pyplot as plt\n",
    "import seaborn as sns\n",
    "\n",
    "from sklearn.datasets import load_breast_cancer\n",
    "from sklearn.model_selection import train_test_split\n",
    "from sklearn.linear_model import LogisticRegression\n",
    "from sklearn.metrics import accuracy_score, confusion_matrix, classification_report, roc_curve, auc\n",
    "\n",
    "# Reproducibility\n",
    "np.random.seed(42)\n",
    "\n",
    "print(\"Python:\", sys.version.split()[0])\n",
    "print(\"NumPy:\", np.__version__)\n",
    "print(\"Pandas:\", pd.__version__)"
   ]
  },
  {
   "cell_type": "markdown",
   "id": "75d7090e",
   "metadata": {},
   "source": [
    "## 2. Load Breast Cancer Dataset"
   ]
  },
  {
   "cell_type": "code",
   "execution_count": null,
   "id": "d61956ee",
   "metadata": {},
   "outputs": [],
   "source": [
    "cancer = load_breast_cancer()\n",
    "X = pd.DataFrame(cancer.data, columns=cancer.feature_names)\n",
    "y = pd.Series(cancer.target)\n",
    "\n",
    "print(\"Dataset shape:\", X.shape)\n",
    "print(\"Classes:\", cancer.target_names)\n",
    "X.head()"
   ]
  },
  {
   "cell_type": "markdown",
   "id": "d1bbc8b6",
   "metadata": {},
   "source": [
    "## 3. Exploratory Data Analysis (EDA)\n",
    "Check class distribution and correlations."
   ]
  },
  {
   "cell_type": "code",
   "execution_count": null,
   "id": "dce103e2",
   "metadata": {},
   "outputs": [],
   "source": [
    "# Class distribution\n",
    "sns.countplot(x=y, palette='Set2')\n",
    "plt.title(\"Class Distribution (0 = Malignant, 1 = Benign)\")\n",
    "plt.show()\n",
    "\n",
    "# Correlation heatmap of top features\n",
    "plt.figure(figsize=(12,8))\n",
    "sns.heatmap(X.corr().iloc[:10, :10], cmap='coolwarm', annot=True)\n",
    "plt.title(\"Correlation Heatmap (First 10 Features)\")\n",
    "plt.show()"
   ]
  },
  {
   "cell_type": "markdown",
   "id": "a7a2f977",
   "metadata": {},
   "source": [
    "## 4. Split Data"
   ]
  },
  {
   "cell_type": "code",
   "execution_count": null,
   "id": "b54a4531",
   "metadata": {},
   "outputs": [],
   "source": [
    "X_train, X_test, y_train, y_test = train_test_split(X, y, test_size=0.2, stratify=y, random_state=42)\n",
    "X_train.shape, X_test.shape"
   ]
  },
  {
   "cell_type": "markdown",
   "id": "77ac15f7",
   "metadata": {},
   "source": [
    "## 5. Fit Logistic Regression Model"
   ]
  },
  {
   "cell_type": "code",
   "execution_count": null,
   "id": "bdbb34bb",
   "metadata": {},
   "outputs": [],
   "source": [
    "model = LogisticRegression(max_iter=10000)\n",
    "model.fit(X_train, y_train)\n",
    "\n",
    "print(\"Intercept:\", model.intercept_)\n",
    "print(\"Number of coefficients:\", len(model.coef_[0]))"
   ]
  },
  {
   "cell_type": "markdown",
   "id": "6328f5fc",
   "metadata": {},
   "source": [
    "## 6. Model Evaluation"
   ]
  },
  {
   "cell_type": "code",
   "execution_count": null,
   "id": "a2a537e4",
   "metadata": {},
   "outputs": [],
   "source": [
    "y_pred = model.predict(X_test)\n",
    "\n",
    "acc = accuracy_score(y_test, y_pred)\n",
    "print(\"Accuracy:\", acc)\n",
    "\n",
    "print(\"\\nConfusion Matrix:\")\n",
    "print(confusion_matrix(y_test, y_pred))\n",
    "\n",
    "print(\"\\nClassification Report:\")\n",
    "print(classification_report(y_test, y_pred, target_names=cancer.target_names))"
   ]
  },
  {
   "cell_type": "markdown",
   "id": "5c035884",
   "metadata": {},
   "source": [
    "## 7. ROC Curve & AUC"
   ]
  },
  {
   "cell_type": "code",
   "execution_count": null,
   "id": "c9d07c0b",
   "metadata": {},
   "outputs": [],
   "source": [
    "y_prob = model.predict_proba(X_test)[:,1]\n",
    "fpr, tpr, thresholds = roc_curve(y_test, y_prob)\n",
    "roc_auc = auc(fpr, tpr)\n",
    "\n",
    "plt.figure(figsize=(6,6))\n",
    "plt.plot(fpr, tpr, label=f\"ROC curve (AUC = {roc_auc:.2f})\")\n",
    "plt.plot([0,1], [0,1], 'r--')\n",
    "plt.xlabel(\"False Positive Rate\")\n",
    "plt.ylabel(\"True Positive Rate\")\n",
    "plt.title(\"ROC Curve\")\n",
    "plt.legend()\n",
    "plt.show()"
   ]
  },
  {
   "cell_type": "markdown",
   "id": "e8fd3c12",
   "metadata": {},
   "source": [
    "## 8. Feature Importance (Coefficients)\n",
    "We can see which features contribute most to the prediction."
   ]
  },
  {
   "cell_type": "code",
   "execution_count": null,
   "id": "63c988d9",
   "metadata": {},
   "outputs": [],
   "source": [
    "coef_importance = pd.Series(model.coef_[0], index=X.columns)\n",
    "coef_importance = coef_importance.sort_values()\n",
    "\n",
    "plt.figure(figsize=(8,10))\n",
    "sns.barplot(x=coef_importance.values, y=coef_importance.index, palette='coolwarm')\n",
    "plt.title(\"Feature Importance (Logistic Regression Coefficients)\")\n",
    "plt.show()"
   ]
  }
 ],
 "metadata": {},
 "nbformat": 4,
 "nbformat_minor": 5
}
